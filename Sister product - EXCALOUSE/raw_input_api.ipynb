{
 "cells": [
  {
   "cell_type": "code",
   "execution_count": 3,
   "metadata": {},
   "outputs": [],
   "source": [
    "import ctypes\n",
    "from ctypes import wintypes\n",
    "import atexit"
   ]
  },
  {
   "cell_type": "code",
   "execution_count": 4,
   "metadata": {},
   "outputs": [
    {
     "name": "stdout",
     "output_type": "stream",
     "text": [
      "3868630 1564\n"
     ]
    }
   ],
   "source": [
    "user32 = ctypes.windll.user32\n",
    "kernel32 = ctypes.windll.kernel32\n",
    "\n",
    "\n",
    "hwnd = user32.GetForegroundWindow()\n",
    "'''\n",
    "의미: GetForegroundWindow 함수는 현재 화면에서 포그라운드에 있는 윈도우의 핸들을 가져옵니다. 포그라운드 윈도우는 현재 사용자가 활동 중인 창이며, 사용자의 입력을 받습니다. 이 함수는 해당 윈도우의 핸들을 반환합니다.\n",
    "사용 예시: 주로 사용자 인터페이스나 자동화 프로그램에서 사용되며, 현재 활성화된 윈도우의 정보를 가져오는 데 사용됩니다.\n",
    "'''\n",
    "\n",
    "\n",
    "pid = kernel32.GetCurrentProcessId()\n",
    "'''\n",
    "의미: GetCurrentProcessId 함수는 현재 실행 중인 프로세스의 ID를 가져옵니다. 각 프로세스는 고유한 ID를 가지며, 이를 통해 프로세스를 식별할 수 있습니다.\n",
    "사용 예시: 보안, 디버깅, 프로세스 간 통신 등 다양한 상황에서 사용됩니다. 특히 여러 프로세스 간 상호작용이 필요한 프로그램에서 사용됩니다.\n",
    "'''\n",
    "\n",
    "print(hwnd, pid)"
   ]
  },
  {
   "cell_type": "code",
   "execution_count": 7,
   "metadata": {},
   "outputs": [],
   "source": [
    "RID_INPUT = 0x10000003 # RawInputData_INPUT\n",
    "RIM_TYPEMOUSE = 0\n",
    "WM_INPUT = 0x00FF\n",
    "RID_INPUTSINK = 0x00000100"
   ]
  },
  {
   "cell_type": "code",
   "execution_count": 8,
   "metadata": {},
   "outputs": [
    {
     "ename": "AttributeError",
     "evalue": "module 'win32api' has no attribute 'GetForegroundWindow'",
     "output_type": "error",
     "traceback": [
      "\u001b[1;31m---------------------------------------------------------------------------\u001b[0m",
      "\u001b[1;31mAttributeError\u001b[0m                            Traceback (most recent call last)",
      "Cell \u001b[1;32mIn[8], line 21\u001b[0m\n\u001b[0;32m     18\u001b[0m             \u001b[38;5;28mprint\u001b[39m(\u001b[38;5;124m\"\u001b[39m\u001b[38;5;124mRaw Input Data Received\u001b[39m\u001b[38;5;124m\"\u001b[39m)\n\u001b[0;32m     20\u001b[0m \u001b[38;5;28;01mif\u001b[39;00m \u001b[38;5;18m__name__\u001b[39m \u001b[38;5;241m==\u001b[39m \u001b[38;5;124m\"\u001b[39m\u001b[38;5;124m__main__\u001b[39m\u001b[38;5;124m\"\u001b[39m:\n\u001b[1;32m---> 21\u001b[0m     \u001b[43mget_raw_mouse_data\u001b[49m\u001b[43m(\u001b[49m\u001b[43m)\u001b[49m\n",
      "Cell \u001b[1;32mIn[8], line 6\u001b[0m, in \u001b[0;36mget_raw_mouse_data\u001b[1;34m()\u001b[0m\n\u001b[0;32m      4\u001b[0m \u001b[38;5;28;01mdef\u001b[39;00m \u001b[38;5;21mget_raw_mouse_data\u001b[39m():\n\u001b[0;32m      5\u001b[0m     \u001b[38;5;66;03m# 원시 마우스 데이터를 받을 윈도우 핸들 가져오기\u001b[39;00m\n\u001b[1;32m----> 6\u001b[0m     hwnd \u001b[38;5;241m=\u001b[39m \u001b[43mwin32api\u001b[49m\u001b[38;5;241;43m.\u001b[39;49m\u001b[43mGetForegroundWindow\u001b[49m()\n\u001b[0;32m      8\u001b[0m     \u001b[38;5;66;03m# 원시 마우스 데이터를 받기 위해 윈도우를 원시 입력 디바이스로 등록하기\u001b[39;00m\n\u001b[0;32m      9\u001b[0m     win32api\u001b[38;5;241m.\u001b[39mRegisterRawInputDevices([\n\u001b[0;32m     10\u001b[0m         (win32con\u001b[38;5;241m.\u001b[39mRIM_TYPEMOUSE, win32api\u001b[38;5;241m.\u001b[39mRAW_INPUT_MODE)\n\u001b[0;32m     11\u001b[0m     ])\n",
      "\u001b[1;31mAttributeError\u001b[0m: module 'win32api' has no attribute 'GetForegroundWindow'"
     ]
    }
   ],
   "source": [
    "import win32api\n",
    "import win32con\n",
    "\n",
    "def get_raw_mouse_data():\n",
    "    # 원시 마우스 데이터를 받을 윈도우 핸들 가져오기\n",
    "    hwnd = win32api.GetForegroundWindow()\n",
    "\n",
    "    # 원시 마우스 데이터를 받기 위해 윈도우를 원시 입력 디바이스로 등록하기\n",
    "    win32api.RegisterRawInputDevices([\n",
    "        (win32con.RIM_TYPEMOUSE, win32api.RAW_INPUT_MODE)\n",
    "    ])\n",
    "\n",
    "    # 원시 입력 데이터 수신\n",
    "    while True:\n",
    "        # PeekMessage를 사용하여 원시 입력 메시지를 확인\n",
    "        msg = win32api.GetMessage(None, 0, win32con.WM_INPUT, win32con.WM_INPUT)\n",
    "        if msg:\n",
    "            print(\"Raw Input Data Received\")\n",
    "\n",
    "get_raw_mouse_data()\n"
   ]
  },
  {
   "cell_type": "code",
   "execution_count": 7,
   "metadata": {},
   "outputs": [],
   "source": [
    "import win32api\n",
    "import win32con"
   ]
  },
  {
   "cell_type": "code",
   "execution_count": null,
   "metadata": {},
   "outputs": [],
   "source": []
  },
  {
   "cell_type": "code",
   "execution_count": 11,
   "metadata": {},
   "outputs": [],
   "source": [
    "hwnd = user32.GetForegroundWindow()"
   ]
  },
  {
   "cell_type": "code",
   "execution_count": 13,
   "metadata": {},
   "outputs": [],
   "source": [
    "user32 = ctypes.windll.user32\n",
    "kernel32 = ctypes.windll.kernel32"
   ]
  },
  {
   "cell_type": "code",
   "execution_count": 16,
   "metadata": {},
   "outputs": [
    {
     "data": {
      "text/plain": [
       "0"
      ]
     },
     "execution_count": 16,
     "metadata": {},
     "output_type": "execute_result"
    }
   ],
   "source": [
    "user32 = ctypes.windll.user32\n",
    "user32.RegisterRawInputDevices()"
   ]
  },
  {
   "cell_type": "code",
   "execution_count": null,
   "metadata": {},
   "outputs": [],
   "source": []
  },
  {
   "cell_type": "code",
   "execution_count": null,
   "metadata": {},
   "outputs": [],
   "source": []
  },
  {
   "cell_type": "code",
   "execution_count": 19,
   "metadata": {},
   "outputs": [
    {
     "ename": "AttributeError",
     "evalue": "module 'win32con' has no attribute 'RIDEV_MOUSE'",
     "output_type": "error",
     "traceback": [
      "\u001b[1;31m---------------------------------------------------------------------------\u001b[0m",
      "\u001b[1;31mAttributeError\u001b[0m                            Traceback (most recent call last)",
      "Cell \u001b[1;32mIn[19], line 9\u001b[0m\n\u001b[0;32m      5\u001b[0m user32 \u001b[38;5;241m=\u001b[39m ctypes\u001b[38;5;241m.\u001b[39mwindll\u001b[38;5;241m.\u001b[39muser32\n\u001b[0;32m      7\u001b[0m \u001b[38;5;66;03m# 원시 입력 장치 등록\u001b[39;00m\n\u001b[0;32m      8\u001b[0m user32\u001b[38;5;241m.\u001b[39mRegisterRawInputDevices([\n\u001b[1;32m----> 9\u001b[0m     (\u001b[43mwin32con\u001b[49m\u001b[38;5;241;43m.\u001b[39;49m\u001b[43mRIDEV_MOUSE\u001b[49m, ctypes\u001b[38;5;241m.\u001b[39msizeof(ctypes\u001b[38;5;241m.\u001b[39mc_int))\n\u001b[0;32m     10\u001b[0m ], ctypes\u001b[38;5;241m.\u001b[39msizeof(win32con\u001b[38;5;241m.\u001b[39mRAWINPUTDEVICE))\n",
      "\u001b[1;31mAttributeError\u001b[0m: module 'win32con' has no attribute 'RIDEV_MOUSE'"
     ]
    }
   ],
   "source": [
    "import ctypes\n",
    "import win32con\n",
    "\n",
    "# user32 DLL 불러오기\n",
    "user32 = ctypes.windll.user32\n",
    "\n",
    "# 원시 입력 장치 등록\n",
    "user32.RegisterRawInputDevices([\n",
    "    (win32con.RIDEV_MOUSE, ctypes.sizeof(ctypes.c_int))\n",
    "], ctypes.sizeof(win32con.RAWINPUTDEVICE))\n",
    "\n"
   ]
  },
  {
   "cell_type": "code",
   "execution_count": 9,
   "metadata": {},
   "outputs": [
    {
     "ename": "AttributeError",
     "evalue": "module 'win32api' has no attribute 'RegisterRawInputDevices'",
     "output_type": "error",
     "traceback": [
      "\u001b[1;31m---------------------------------------------------------------------------\u001b[0m",
      "\u001b[1;31mAttributeError\u001b[0m                            Traceback (most recent call last)",
      "Cell \u001b[1;32mIn[9], line 21\u001b[0m\n\u001b[0;32m     18\u001b[0m         \u001b[38;5;28;01mif\u001b[39;00m msg:\n\u001b[0;32m     19\u001b[0m             \u001b[38;5;28mprint\u001b[39m(\u001b[38;5;124m\"\u001b[39m\u001b[38;5;124mRaw Input Data Received\u001b[39m\u001b[38;5;124m\"\u001b[39m)\n\u001b[1;32m---> 21\u001b[0m \u001b[43mget_raw_mouse_data\u001b[49m\u001b[43m(\u001b[49m\u001b[43m)\u001b[49m\n",
      "Cell \u001b[1;32mIn[9], line 10\u001b[0m, in \u001b[0;36mget_raw_mouse_data\u001b[1;34m()\u001b[0m\n\u001b[0;32m      7\u001b[0m hwnd \u001b[38;5;241m=\u001b[39m win32gui\u001b[38;5;241m.\u001b[39mGetForegroundWindow()\n\u001b[0;32m      9\u001b[0m \u001b[38;5;66;03m# 원시 마우스 데이터를 받기 위해 윈도우를 원시 입력 디바이스로 등록하기\u001b[39;00m\n\u001b[1;32m---> 10\u001b[0m \u001b[43mwin32api\u001b[49m\u001b[38;5;241;43m.\u001b[39;49m\u001b[43mRegisterRawInputDevices\u001b[49m([\n\u001b[0;32m     11\u001b[0m     (win32con\u001b[38;5;241m.\u001b[39mRIM_TYPEMOUSE, win32api\u001b[38;5;241m.\u001b[39mRAW_INPUT_MODE)\n\u001b[0;32m     12\u001b[0m ])\n\u001b[0;32m     14\u001b[0m \u001b[38;5;66;03m# 원시 입력 데이터 수신\u001b[39;00m\n\u001b[0;32m     15\u001b[0m \u001b[38;5;28;01mwhile\u001b[39;00m \u001b[38;5;28;01mTrue\u001b[39;00m:\n\u001b[0;32m     16\u001b[0m     \u001b[38;5;66;03m# PeekMessage를 사용하여 원시 입력 메시지를 확인\u001b[39;00m\n",
      "\u001b[1;31mAttributeError\u001b[0m: module 'win32api' has no attribute 'RegisterRawInputDevices'"
     ]
    }
   ],
   "source": [
    "import win32api\n",
    "import win32con\n",
    "import win32gui\n",
    "\n",
    "def get_raw_mouse_data():\n",
    "    # 원시 마우스 데이터를 받을 윈도우 핸들 가져오기\n",
    "    hwnd = win32gui.GetForegroundWindow()\n",
    "\n",
    "    # 원시 마우스 데이터를 받기 위해 윈도우를 원시 입력 디바이스로 등록하기\n",
    "    win32api.RegisterRawInputDevices([\n",
    "        (win32con.RIM_TYPEMOUSE, win32api.RAW_INPUT_MODE)\n",
    "    ])\n",
    "\n",
    "    # 원시 입력 데이터 수신\n",
    "    while True:\n",
    "        # PeekMessage를 사용하여 원시 입력 메시지를 확인\n",
    "        msg = win32api.GetMessage(None, 0, win32con.WM_INPUT, win32con.WM_INPUT)\n",
    "        if msg:\n",
    "            print(\"Raw Input Data Received\")\n",
    "\n",
    "get_raw_mouse_data()\n"
   ]
  },
  {
   "cell_type": "code",
   "execution_count": null,
   "metadata": {},
   "outputs": [],
   "source": []
  },
  {
   "cell_type": "code",
   "execution_count": 1,
   "metadata": {},
   "outputs": [],
   "source": [
    "import win32api\n",
    "import win32con\n",
    "import win32gui\n",
    "\n",
    "hwnd = win32gui.GetForegroundWindow()"
   ]
  },
  {
   "cell_type": "code",
   "execution_count": 2,
   "metadata": {},
   "outputs": [
    {
     "data": {
      "text/plain": [
       "3868630"
      ]
     },
     "execution_count": 2,
     "metadata": {},
     "output_type": "execute_result"
    }
   ],
   "source": [
    "hwnd"
   ]
  },
  {
   "cell_type": "code",
   "execution_count": 5,
   "metadata": {},
   "outputs": [
    {
     "data": {
      "text/plain": [
       "'● raw_input_api.ipynb - Excaliboard - Visual Studio Code'"
      ]
     },
     "execution_count": 5,
     "metadata": {},
     "output_type": "execute_result"
    }
   ],
   "source": [
    "win32gui.GetWindowText(hwnd)"
   ]
  },
  {
   "cell_type": "code",
   "execution_count": 6,
   "metadata": {},
   "outputs": [
    {
     "ename": "AttributeError",
     "evalue": "module 'win32api' has no attribute 'RegisterRawInputDevices'",
     "output_type": "error",
     "traceback": [
      "\u001b[1;31m---------------------------------------------------------------------------\u001b[0m",
      "\u001b[1;31mAttributeError\u001b[0m                            Traceback (most recent call last)",
      "Cell \u001b[1;32mIn[6], line 1\u001b[0m\n\u001b[1;32m----> 1\u001b[0m \u001b[43mwin32api\u001b[49m\u001b[38;5;241;43m.\u001b[39;49m\u001b[43mRegisterRawInputDevices\u001b[49m([\n\u001b[0;32m      2\u001b[0m         (win32con\u001b[38;5;241m.\u001b[39mRIM_TYPEMOUSE, win32api\u001b[38;5;241m.\u001b[39mRAW_INPUT_MODE)\n\u001b[0;32m      3\u001b[0m     ])\n",
      "\u001b[1;31mAttributeError\u001b[0m: module 'win32api' has no attribute 'RegisterRawInputDevices'"
     ]
    }
   ],
   "source": [
    "win32api.RegisterRawInputDevices([\n",
    "        (win32con.RIM_TYPEMOUSE, win32api.RAW_INPUT_MODE)\n",
    "    ])\n"
   ]
  },
  {
   "cell_type": "code",
   "execution_count": 7,
   "metadata": {},
   "outputs": [
    {
     "ename": "TypeError",
     "evalue": "abstract class",
     "output_type": "error",
     "traceback": [
      "\u001b[1;31m---------------------------------------------------------------------------\u001b[0m",
      "\u001b[1;31mTypeError\u001b[0m                                 Traceback (most recent call last)",
      "Cell \u001b[1;32mIn[7], line 32\u001b[0m\n\u001b[0;32m     29\u001b[0m         \u001b[38;5;28;01mif\u001b[39;00m msg:\n\u001b[0;32m     30\u001b[0m             \u001b[38;5;28mprint\u001b[39m(\u001b[38;5;124m\"\u001b[39m\u001b[38;5;124mRaw Input Data Received\u001b[39m\u001b[38;5;124m\"\u001b[39m)\n\u001b[1;32m---> 32\u001b[0m \u001b[43mget_raw_mouse_data\u001b[49m\u001b[43m(\u001b[49m\u001b[43m)\u001b[49m\n",
      "Cell \u001b[1;32mIn[7], line 16\u001b[0m, in \u001b[0;36mget_raw_mouse_data\u001b[1;34m()\u001b[0m\n\u001b[0;32m     14\u001b[0m \u001b[38;5;66;03m# 원시 마우스 데이터를 받기 위해 윈도우를 원시 입력 디바이스로 등록하기\u001b[39;00m\n\u001b[0;32m     15\u001b[0m user32 \u001b[38;5;241m=\u001b[39m ctypes\u001b[38;5;241m.\u001b[39mwindll\u001b[38;5;241m.\u001b[39muser32\n\u001b[1;32m---> 16\u001b[0m rid \u001b[38;5;241m=\u001b[39m \u001b[43mctypes\u001b[49m\u001b[38;5;241;43m.\u001b[39;49m\u001b[43mStructure\u001b[49m\u001b[43m(\u001b[49m\u001b[43m)\u001b[49m\n\u001b[0;32m     17\u001b[0m rid\u001b[38;5;241m.\u001b[39musUsagePage \u001b[38;5;241m=\u001b[39m \u001b[38;5;241m0x01\u001b[39m\n\u001b[0;32m     18\u001b[0m rid\u001b[38;5;241m.\u001b[39musUsage \u001b[38;5;241m=\u001b[39m \u001b[38;5;241m0x02\u001b[39m\n",
      "\u001b[1;31mTypeError\u001b[0m: abstract class"
     ]
    }
   ],
   "source": [
    "import ctypes\n",
    "import win32con\n",
    "import win32gui\n",
    "\n",
    "# 필요한 상수 정의\n",
    "RID_INPUT = 0x10000003\n",
    "RIM_TYPEMOUSE = 0\n",
    "RID_INPUTSINK = 0x00000100\n",
    "\n",
    "\n",
    "\n",
    "\n",
    "\n",
    "\n",
    "def get_raw_mouse_data():\n",
    "    # 원시 마우스 데이터를 받을 윈도우 핸들 가져오기\n",
    "    hwnd = win32gui.GetForegroundWindow()\n",
    "\n",
    "    # 원시 마우스 데이터를 받기 위해 윈도우를 원시 입력 디바이스로 등록하기\n",
    "    user32 = ctypes.windll.user32\n",
    "    rid = ctypes.Structure()\n",
    "    rid.usUsagePage = 0x01\n",
    "    rid.usUsage = 0x02\n",
    "    rid.dwFlags = RID_INPUTSINK\n",
    "    rid.hwndTarget = hwnd\n",
    "\n",
    "    if not user32.RegisterRawInputDevices(ctypes.byref(rid), 1, ctypes.sizeof(rid)):\n",
    "        raise ctypes.WinError()\n",
    "\n",
    "    # 원시 입력 데이터 수신\n",
    "    while True:\n",
    "        # PeekMessage를 사용하여 원시 입력 메시지를 확인\n",
    "        msg = win32gui.PeekMessage(None, win32con.WM_INPUT, 0, 0, win32con.PM_REMOVE)\n",
    "        if msg:\n",
    "            print(\"Raw Input Data Received\")\n",
    "\n",
    "get_raw_mouse_data()\n"
   ]
  },
  {
   "cell_type": "code",
   "execution_count": 10,
   "metadata": {},
   "outputs": [
    {
     "ename": "AttributeError",
     "evalue": "module 'win32con' has no attribute 'WM_INPUT'",
     "output_type": "error",
     "traceback": [
      "\u001b[1;31m---------------------------------------------------------------------------\u001b[0m",
      "\u001b[1;31mAttributeError\u001b[0m                            Traceback (most recent call last)",
      "Cell \u001b[1;32mIn[10], line 13\u001b[0m\n\u001b[0;32m     10\u001b[0m hwnd \u001b[38;5;241m=\u001b[39m win32gui\u001b[38;5;241m.\u001b[39mGetForegroundWindow()\n\u001b[0;32m     11\u001b[0m user32 \u001b[38;5;241m=\u001b[39m ctypes\u001b[38;5;241m.\u001b[39mwindll\u001b[38;5;241m.\u001b[39muser32\n\u001b[1;32m---> 13\u001b[0m msg \u001b[38;5;241m=\u001b[39m win32gui\u001b[38;5;241m.\u001b[39mPeekMessage(\u001b[38;5;28;01mNone\u001b[39;00m, \u001b[43mwin32con\u001b[49m\u001b[38;5;241;43m.\u001b[39;49m\u001b[43mWM_INPUT\u001b[49m, \u001b[38;5;241m0\u001b[39m, \u001b[38;5;241m0\u001b[39m, win32con\u001b[38;5;241m.\u001b[39mPM_REMOVE)\n",
      "\u001b[1;31mAttributeError\u001b[0m: module 'win32con' has no attribute 'WM_INPUT'"
     ]
    }
   ],
   "source": [
    "import ctypes\n",
    "import win32con\n",
    "import win32gui\n",
    "\n",
    "# 필요한 상수 정의\n",
    "RID_INPUT = 0x10000003\n",
    "RIM_TYPEMOUSE = 0\n",
    "RID_INPUTSINK = 0x00000100\n",
    "\n",
    "hwnd = win32gui.GetForegroundWindow()\n",
    "user32 = ctypes.windll.user32\n",
    "\n",
    "msg = win32gui.PeekMessage(None, win32con.WM_INPUT, 0, 0, win32con.PM_REMOVE)"
   ]
  },
  {
   "cell_type": "code",
   "execution_count": 1,
   "metadata": {},
   "outputs": [
    {
     "ename": "AttributeError",
     "evalue": "module 'win32api' has no attribute 'RegisterRawInputDevices'",
     "output_type": "error",
     "traceback": [
      "\u001b[1;31m---------------------------------------------------------------------------\u001b[0m",
      "\u001b[1;31mAttributeError\u001b[0m                            Traceback (most recent call last)",
      "Cell \u001b[1;32mIn[1], line 20\u001b[0m\n\u001b[0;32m     17\u001b[0m         win32gui\u001b[38;5;241m.\u001b[39mPumpMessages()\n\u001b[0;32m     18\u001b[0m         \u001b[38;5;28mprint\u001b[39m(\u001b[38;5;124m\"\u001b[39m\u001b[38;5;124mRaw Input Data Received\u001b[39m\u001b[38;5;124m\"\u001b[39m)\n\u001b[1;32m---> 20\u001b[0m \u001b[43mget_raw_mouse_data\u001b[49m\u001b[43m(\u001b[49m\u001b[43m)\u001b[49m\n",
      "Cell \u001b[1;32mIn[1], line 10\u001b[0m, in \u001b[0;36mget_raw_mouse_data\u001b[1;34m()\u001b[0m\n\u001b[0;32m      7\u001b[0m hwnd \u001b[38;5;241m=\u001b[39m win32gui\u001b[38;5;241m.\u001b[39mGetForegroundWindow()\n\u001b[0;32m      9\u001b[0m \u001b[38;5;66;03m# 원시 마우스 데이터를 받기 위해 윈도우를 원시 입력 디바이스로 등록하기\u001b[39;00m\n\u001b[1;32m---> 10\u001b[0m \u001b[43mwin32api\u001b[49m\u001b[38;5;241;43m.\u001b[39;49m\u001b[43mRegisterRawInputDevices\u001b[49m([\n\u001b[0;32m     11\u001b[0m     (win32con\u001b[38;5;241m.\u001b[39mRIM_TYPEMOUSE, win32api\u001b[38;5;241m.\u001b[39mRAW_INPUT_MODE)\n\u001b[0;32m     12\u001b[0m ])\n\u001b[0;32m     14\u001b[0m \u001b[38;5;66;03m# 원시 입력 데이터 수신\u001b[39;00m\n\u001b[0;32m     15\u001b[0m \u001b[38;5;28;01mwhile\u001b[39;00m \u001b[38;5;28;01mTrue\u001b[39;00m:\n\u001b[0;32m     16\u001b[0m     \u001b[38;5;66;03m# 메시지 루프 실행\u001b[39;00m\n",
      "\u001b[1;31mAttributeError\u001b[0m: module 'win32api' has no attribute 'RegisterRawInputDevices'"
     ]
    }
   ],
   "source": [
    "import win32api\n",
    "import win32con\n",
    "import win32gui\n",
    "\n",
    "def get_raw_mouse_data():\n",
    "    # 원시 마우스 데이터를 받을 윈도우 핸들 가져오기\n",
    "    hwnd = win32gui.GetForegroundWindow()\n",
    "\n",
    "    # 원시 마우스 데이터를 받기 위해 윈도우를 원시 입력 디바이스로 등록하기\n",
    "    win32api.RegisterRawInputDevices([\n",
    "        (win32con.RIM_TYPEMOUSE, win32api.RAW_INPUT_MODE)\n",
    "    ])\n",
    "\n",
    "    # 원시 입력 데이터 수신\n",
    "    while True:\n",
    "        # 메시지 루프 실행\n",
    "        win32gui.PumpMessages()\n",
    "        print(\"Raw Input Data Received\")\n",
    "\n",
    "get_raw_mouse_data()\n"
   ]
  },
  {
   "cell_type": "code",
   "execution_count": null,
   "metadata": {},
   "outputs": [],
   "source": []
  },
  {
   "cell_type": "code",
   "execution_count": null,
   "metadata": {},
   "outputs": [],
   "source": []
  },
  {
   "cell_type": "code",
   "execution_count": 1,
   "metadata": {},
   "outputs": [
    {
     "ename": "TypeError",
     "evalue": "abstract class",
     "output_type": "error",
     "traceback": [
      "\u001b[1;31m---------------------------------------------------------------------------\u001b[0m",
      "\u001b[1;31mTypeError\u001b[0m                                 Traceback (most recent call last)",
      "Cell \u001b[1;32mIn[1], line 35\u001b[0m\n\u001b[0;32m     32\u001b[0m         \u001b[38;5;28;01mif\u001b[39;00m msg:\n\u001b[0;32m     33\u001b[0m             \u001b[38;5;28mprint\u001b[39m(\u001b[38;5;124m\"\u001b[39m\u001b[38;5;124mRaw Input Data Received\u001b[39m\u001b[38;5;124m\"\u001b[39m)\n\u001b[1;32m---> 35\u001b[0m \u001b[43mget_raw_mouse_data\u001b[49m\u001b[43m(\u001b[49m\u001b[43m)\u001b[49m\n",
      "Cell \u001b[1;32mIn[1], line 19\u001b[0m, in \u001b[0;36mget_raw_mouse_data\u001b[1;34m()\u001b[0m\n\u001b[0;32m     16\u001b[0m hwnd \u001b[38;5;241m=\u001b[39m win32gui\u001b[38;5;241m.\u001b[39mGetForegroundWindow()\n\u001b[0;32m     18\u001b[0m \u001b[38;5;66;03m# 원시 마우스 데이터를 받기 위해 윈도우를 원시 입력 디바이스로 등록하기\u001b[39;00m\n\u001b[1;32m---> 19\u001b[0m rid \u001b[38;5;241m=\u001b[39m \u001b[43mctypes\u001b[49m\u001b[38;5;241;43m.\u001b[39;49m\u001b[43mStructure\u001b[49m\u001b[43m(\u001b[49m\u001b[43m)\u001b[49m\n\u001b[0;32m     20\u001b[0m rid\u001b[38;5;241m.\u001b[39musUsagePage \u001b[38;5;241m=\u001b[39m \u001b[38;5;241m0x01\u001b[39m\n\u001b[0;32m     21\u001b[0m rid\u001b[38;5;241m.\u001b[39musUsage \u001b[38;5;241m=\u001b[39m \u001b[38;5;241m0x02\u001b[39m\n",
      "\u001b[1;31mTypeError\u001b[0m: abstract class"
     ]
    }
   ],
   "source": [
    "import ctypes\n",
    "import win32con\n",
    "import win32gui\n",
    "\n",
    "# 필요한 윈도우 API 함수 불러오기\n",
    "user32 = ctypes.windll.user32\n",
    "\n",
    "# 필요한 상수 정의\n",
    "RID_INPUT = 0x10000003\n",
    "RIM_TYPEMOUSE = 0\n",
    "WM_INPUT = 0x00FF\n",
    "RID_INPUTSINK = 0x00000100\n",
    "\n",
    "def get_raw_mouse_data():\n",
    "    # 원시 마우스 데이터를 받을 윈도우 핸들 가져오기\n",
    "    hwnd = win32gui.GetForegroundWindow()\n",
    "\n",
    "    # 원시 마우스 데이터를 받기 위해 윈도우를 원시 입력 디바이스로 등록하기\n",
    "    rid = ctypes.Structure()\n",
    "    rid.usUsagePage = 0x01\n",
    "    rid.usUsage = 0x02\n",
    "    rid.dwFlags = RID_INPUTSINK\n",
    "    rid.hwndTarget = hwnd\n",
    "\n",
    "    if not user32.RegisterRawInputDevices(ctypes.byref(rid), 1, ctypes.sizeof(rid)):\n",
    "        raise ctypes.WinError()\n",
    "\n",
    "    # 원시 입력 데이터 수신\n",
    "    while True:\n",
    "        # PeekMessage를 사용하여 원시 입력 메시지를 확인\n",
    "        msg = win32gui.PeekMessage(None, WM_INPUT, 0, 0, win32con.PM_REMOVE)\n",
    "        if msg:\n",
    "            print(\"Raw Input Data Received\")\n",
    "            \n",
    "get_raw_mouse_data()\n"
   ]
  }
 ],
 "metadata": {
  "kernelspec": {
   "display_name": "Python 3",
   "language": "python",
   "name": "python3"
  },
  "language_info": {
   "codemirror_mode": {
    "name": "ipython",
    "version": 3
   },
   "file_extension": ".py",
   "mimetype": "text/x-python",
   "name": "python",
   "nbconvert_exporter": "python",
   "pygments_lexer": "ipython3",
   "version": "3.12.3"
  }
 },
 "nbformat": 4,
 "nbformat_minor": 2
}
